{
 "cells": [
  {
   "cell_type": "code",
   "execution_count": 2,
   "id": "bffe8c35",
   "metadata": {
    "vscode": {
     "languageId": "markdown"
    }
   },
   "outputs": [],
   "source": [
    "# README\n",
    "\n",
    "# This Jupyter Notebook contains practice codes for Data Structures in Python, NumPy, and Pandas. Each cell demonstrates concepts, examples, and exercises to help you learn and apply data structure techniques using these libraries."
   ]
  },
  {
   "cell_type": "code",
   "execution_count": 3,
   "id": "47c1228e",
   "metadata": {
    "vscode": {
     "languageId": "markdown"
    }
   },
   "outputs": [
    {
     "name": "stdout",
     "output_type": "stream",
     "text": [
      "Hello world\n"
     ]
    }
   ],
   "source": [
    "print(\"Hello world\")"
   ]
  },
  {
   "cell_type": "code",
   "execution_count": 17,
   "id": "918c9f35",
   "metadata": {
    "vscode": {
     "languageId": "markdown"
    }
   },
   "outputs": [
    {
     "name": "stdout",
     "output_type": "stream",
     "text": [
      "apple\n",
      "cheerry\n"
     ]
    }
   ],
   "source": [
    "# Python provides both built-in data structures (like lists, tuples, sets, dicts) and allows us to create user-defined data structures (like stacks, queues, linked lists, trees, graphs).\n",
    "\n",
    "# List\n",
    "\n",
    "fruits = [\"apple\", \"banana\", \"cheerry\"]\n",
    "print(fruits[0])\n",
    "print(fruits[-1])\n",
    "\n"
   ]
  },
  {
   "cell_type": "code",
   "execution_count": 18,
   "id": "508ec292",
   "metadata": {
    "vscode": {
     "languageId": "markdown"
    }
   },
   "outputs": [
    {
     "name": "stdout",
     "output_type": "stream",
     "text": [
      "['apple', 'banana', 'jackfruit']\n"
     ]
    }
   ],
   "source": [
    "fruits.append(\"tomato\")\n",
    "fruits.insert(3,\"jackfruit\")\n",
    "fruits.remove(\"cheerry\")\n",
    "poppped = fruits.pop()\n",
    "print(fruits)"
   ]
  },
  {
   "cell_type": "code",
   "execution_count": 19,
   "id": "0c154cf3",
   "metadata": {
    "vscode": {
     "languageId": "markdown"
    }
   },
   "outputs": [
    {
     "name": "stdout",
     "output_type": "stream",
     "text": [
      "apple\n",
      "banana\n",
      "jackfruit\n"
     ]
    }
   ],
   "source": [
    "for f in fruits:\n",
    "    print(f)\n"
   ]
  },
  {
   "cell_type": "code",
   "execution_count": 38,
   "id": "9b89e2b5",
   "metadata": {
    "vscode": {
     "languageId": "markdown"
    }
   },
   "outputs": [
    {
     "name": "stdout",
     "output_type": "stream",
     "text": [
      "[2, 4, 2]\n",
      "[1, 2, 4, 2, 5, 6, 7, 5, 88, 89, 90]\n"
     ]
    }
   ],
   "source": [
    "# Extensive\n",
    "\n",
    "check = [ 1,2,4,2,5,6,7,5]\n",
    "print(check[1:4])\n",
    "check.extend([88,89,90])\n",
    "print(check)\n",
    "\n"
   ]
  },
  {
   "cell_type": "code",
   "execution_count": 39,
   "id": "61791446",
   "metadata": {
    "vscode": {
     "languageId": "markdown"
    }
   },
   "outputs": [
    {
     "name": "stdout",
     "output_type": "stream",
     "text": [
      "[1, 4, 2, 5, 6, 7, 5, 88, 89, 90]\n",
      "[1, 4, 2, 5, 6, 7, 5, 88, 89]\n",
      "[1, 4, 2, 6, 7, 5, 88, 89]\n",
      "[1, 4, 2, 6, 7, 5, 89]\n"
     ]
    }
   ],
   "source": [
    "# Remove of elements\n",
    "check.remove(2) # Removes the first occuarance of 2\n",
    "print(check)\n",
    "check.pop()\n",
    "print(check)\n",
    "check.pop(3)\n",
    "print(check)\n",
    "del check[6]\n",
    "print(check)"
   ]
  },
  {
   "cell_type": "code",
   "execution_count": 44,
   "id": "14ccfc17",
   "metadata": {
    "vscode": {
     "languageId": "markdown"
    }
   },
   "outputs": [
    {
     "name": "stdout",
     "output_type": "stream",
     "text": [
      "True\n",
      "4\n",
      "1\n"
     ]
    }
   ],
   "source": [
    "# Searching and checking\n",
    "\n",
    "new =  [10,20,30,40,50]\n",
    "print(40 in new)\n",
    "print(new.index(50))\n",
    "print(new.count(30)) # Occurences \n"
   ]
  },
  {
   "cell_type": "code",
   "execution_count": 49,
   "id": "7946aa85",
   "metadata": {
    "vscode": {
     "languageId": "markdown"
    }
   },
   "outputs": [
    {
     "name": "stdout",
     "output_type": "stream",
     "text": [
      "[3, 3, 5, 6, 7, 8]\n"
     ]
    }
   ],
   "source": [
    "#The code `print(unsort.sort())` prints `None` because the `sort()` method sorts the list in place and returns `None`. To see the sorted list, you should sort the list # # #first and then print the list:\n",
    "\n",
    "\n",
    "unsort.sort()\n",
    "print(unsort)\n"
   ]
  },
  {
   "cell_type": "code",
   "execution_count": 53,
   "id": "ae4ca803",
   "metadata": {
    "vscode": {
     "languageId": "markdown"
    }
   },
   "outputs": [
    {
     "name": "stdout",
     "output_type": "stream",
     "text": [
      "None\n",
      "[8, 7, 6, 5, 3, 3]\n",
      "[3, 3, 5, 6, 7, 8]\n"
     ]
    }
   ],
   "source": [
    "# Sorting\n",
    "unsort = [5,6,3,8,3,7]\n",
    "print(unsort.sort())\n",
    "unsort.sort(reverse=True)\n",
    "print(unsort)\n",
    "sorted_new =  sorted(unsort)\n",
    "print(sorted_new)"
   ]
  },
  {
   "cell_type": "code",
   "execution_count": 56,
   "id": "e3c216a6",
   "metadata": {
    "vscode": {
     "languageId": "markdown"
    }
   },
   "outputs": [
    {
     "name": "stdout",
     "output_type": "stream",
     "text": [
      "[1, 3, 4]\n",
      "[1, 3, 4]\n"
     ]
    }
   ],
   "source": [
    "# Copying list\n",
    "a =[1,3,4]\n",
    "b = a.copy()\n",
    "print(b)\n",
    "d = a[:]\n",
    "print(d)"
   ]
  }
 ],
 "metadata": {
  "kernelspec": {
   "display_name": "Python 3",
   "language": "python",
   "name": "python3"
  },
  "language_info": {
   "codemirror_mode": {
    "name": "ipython",
    "version": 3
   },
   "file_extension": ".py",
   "mimetype": "text/x-python",
   "name": "python",
   "nbconvert_exporter": "python",
   "pygments_lexer": "ipython3",
   "version": "3.9.6"
  }
 },
 "nbformat": 4,
 "nbformat_minor": 5
}
